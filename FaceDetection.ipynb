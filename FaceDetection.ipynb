{
 "cells": [
  {
   "cell_type": "code",
   "execution_count": 1,
   "id": "a5b1e91b",
   "metadata": {},
   "outputs": [],
   "source": [
    "import cv2"
   ]
  },
  {
   "cell_type": "code",
   "execution_count": 6,
   "id": "d9176d27",
   "metadata": {},
   "outputs": [],
   "source": [
    "img = cv2.imread('img.jpg')"
   ]
  },
  {
   "cell_type": "code",
   "execution_count": 7,
   "id": "b733f165",
   "metadata": {},
   "outputs": [],
   "source": [
    "haar_data = cv2.CascadeClassifier('haarcascade_frontalface_default.xml')"
   ]
  },
  {
   "cell_type": "code",
   "execution_count": 8,
   "id": "aa3fcc3b",
   "metadata": {},
   "outputs": [
    {
     "data": {
      "text/plain": [
       "array([[191, 166,  91,  91]])"
      ]
     },
     "execution_count": 8,
     "metadata": {},
     "output_type": "execute_result"
    }
   ],
   "source": [
    "# 1.2 - 120%\n",
    "haar_data.detectMultiScale(img,1.2)"
   ]
  },
  {
   "cell_type": "code",
   "execution_count": 12,
   "id": "8e626a9c",
   "metadata": {},
   "outputs": [
    {
     "data": {
      "text/plain": [
       "-1"
      ]
     },
     "execution_count": 12,
     "metadata": {},
     "output_type": "execute_result"
    }
   ],
   "source": [
    "# img = cv2.imread('img.jpg')\n",
    "img = cv2.imread('img_2.webp')\n",
    "faces = haar_data.detectMultiScale(img, 1.2)\n",
    "for x,y,w,h in faces:\n",
    "    cv2.rectangle(img, (x,y), (x+w, y+h), (255,0,0), 4)\n",
    "\n",
    "cv2.imshow('result',img)\n",
    "cv2.waitKey(0)"
   ]
  },
  {
   "cell_type": "code",
   "execution_count": 14,
   "id": "bd4b6de3",
   "metadata": {},
   "outputs": [],
   "source": [
    "capture = cv2.VideoCapture(0)\n",
    "i = 0\n",
    "while True:\n",
    "    # reads one frame at a time\n",
    "    flag, frame = capture.read()\n",
    "    if flag:\n",
    "        faces = haar_data.detectMultiScale(frame, 1.2)\n",
    "        #frame = cv2.resize(frame,None,fx=0.5,fy=0.5)\n",
    "        # show frame on output window\n",
    "        for x,y,w,h in faces:\n",
    "            cv2.rectangle(frame, (x,y), (x+w, y+h), (255,0,0), 4)\n",
    "        cv2.imshow(\"result\",frame)\n",
    "        if cv2.waitKey(1) == 27:\n",
    "            break\n",
    "    else:\n",
    "        print(\"No camera detected...\")\n",
    "        \n",
    "# close all the windows\n",
    "cv2.destroyAllWindows()\n",
    "# release the camera object\n",
    "capture.release()"
   ]
  },
  {
   "cell_type": "code",
   "execution_count": null,
   "id": "8d8e067d",
   "metadata": {},
   "outputs": [],
   "source": []
  }
 ],
 "metadata": {
  "kernelspec": {
   "display_name": "Python 3 (ipykernel)",
   "language": "python",
   "name": "python3"
  },
  "language_info": {
   "codemirror_mode": {
    "name": "ipython",
    "version": 3
   },
   "file_extension": ".py",
   "mimetype": "text/x-python",
   "name": "python",
   "nbconvert_exporter": "python",
   "pygments_lexer": "ipython3",
   "version": "3.9.7"
  }
 },
 "nbformat": 4,
 "nbformat_minor": 5
}
